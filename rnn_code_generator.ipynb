{
 "cells": [
  {
   "cell_type": "markdown",
   "metadata": {},
   "source": [
    "# Text generation using RNN - Character Level\n",
    "\n",
    "To generate text using RNN, we need a to convert raw text to a supervised learning problem format.\n",
    "\n",
    "Take, for example, the following corpus:\n",
    "\n",
    "\"Her brother shook his head incredulously\"\n",
    "\n",
    "First we need to divide the data into tabular format containing input (X) and output (y) sequences. In case of a character level model, the X and y will look like this:\n",
    "\n",
    "|      X     |  Y  |\n",
    "|------------|-----|\n",
    "|    Her b   |  r  |\n",
    "|    er br   |  o  |\n",
    "|    r bro   |  t  |\n",
    "|     brot   |  h  |\n",
    "|    broth   |  e  |\n",
    "|    .....   |  .  |\n",
    "|    .....   |  .  |\n",
    "|    ulous   |  l  |\n",
    "|    lousl   |  y  |\n",
    "\n",
    "Note that in the above problem, the sequence length of X is five characters and that of y is one character. Hence, this is a many-to-one architecture. We can, however, change the number of input characters to any number of characters depending on the type of problem.\n",
    "\n",
    "A model is trained on such data. To generate text, we simply give the model any five characters using which it predicts the next character. Then it appends the predicted character to the input sequence (on the extreme right of the sequence) and discards the first character (character on extreme left of the sequence). Then it predicts again using the new sequence and the cycle continues until a fix number of iterations. An example is shown below:\n",
    "\n",
    "Seed text: \"incre\"\n",
    "\n",
    "|      X                                            |  Y                       |\n",
    "|---------------------------------------------------|--------------------------|\n",
    "|                        incre                      |    < predicted char 1 >  |\n",
    "|               ncre < predicted char 1 >              |    < predicted char 2 >  |\n",
    "|       cre< predicted char 1 > < predicted char 2 >   |    < predicted char 3 >  |\n",
    "|       re< predicted char 1 >< predicted char 2 > < predicted char 3 >   |    < predicted char 4 >  |\n",
    "|                      ...                          |            ...           |"
   ]
  },
  {
   "cell_type": "markdown",
   "metadata": {},
   "source": [
    "# Notebook Overview\n",
    "1. Preprocess data\n",
    "2. LSTM model\n",
    "3. Generate code"
   ]
  },
  {
   "cell_type": "code",
   "execution_count": 3,
   "metadata": {
    "colab": {
     "base_uri": "https://localhost:8080/",
     "height": 34
    },
    "colab_type": "code",
    "id": "4Sa28LJ6YqdD",
    "outputId": "ae782caf-f9d1-43fe-aa32-4f2ccf02cfe0"
   },
   "outputs": [],
   "source": [
    "# import libraries\n",
    "import warnings\n",
    "warnings.filterwarnings(\"ignore\")\n",
    "\n",
    "import os\n",
    "import re\n",
    "import numpy as np\n",
    "import random\n",
    "import sys\n",
    "import io\n",
    "from tensorflow.keras import Sequential\n",
    "from tensorflow.keras.layers import Dense, Activation, LSTM\n",
    "from tensorflow.keras.optimizers import Adam\n",
    "from tensorflow.keras.utils import get_file"
   ]
  },
  {
   "cell_type": "markdown",
   "metadata": {},
   "source": [
    "# 1. Preprocess data"
   ]
  },
  {
   "cell_type": "markdown",
   "metadata": {},
   "source": [
    "We're going to build a C code generator by training an RNN on a huge corpus of C code (the linux kernel code). You can download the C code used as source text from the following link:\n",
    "https://github.com/torvalds/linux/tree/master/kernel\n",
    "\n",
    "We have already downloaded the entire kernel folder and stored in a local directory"
   ]
  },
  {
   "cell_type": "markdown",
   "metadata": {},
   "source": [
    "## Load C code"
   ]
  },
  {
   "cell_type": "code",
   "execution_count": 7,
   "metadata": {},
   "outputs": [
    {
     "name": "stdout",
     "output_type": "stream",
     "text": [
      "['.gitignore', 'acct.c', 'async.c', 'audit.c', 'audit.h', 'auditfilter.c', 'auditsc.c', 'audit_fsnotify.c', 'audit_tree.c', 'audit_watch.c', 'backtracetest.c', 'bounds.c', 'bpf', 'capability.c', 'cfi.c', 'cgroup', 'compat.c', 'configs', 'configs.c', 'context_tracking.c', 'cpu.c', 'cpu_pm.c', 'crash_core.c', 'crash_reserve.c', 'cred.c', 'debug', 'delayacct.c', 'dma', 'dma.c', 'elfcorehdr.c', 'entry', 'events', 'exec_domain.c', 'exit.c', 'exit.h', 'extable.c', 'fail_function.c', 'fork.c', 'freezer.c', 'futex', 'gcov', 'gen_kheaders.sh', 'groups.c', 'hung_task.c', 'iomem.c', 'irq', 'irq_work.c', 'jump_label.c', 'kallsyms.c', 'kallsyms_internal.h', 'kallsyms_selftest.c', 'kallsyms_selftest.h', 'kcmp.c', 'Kconfig.freezer', 'Kconfig.hz', 'Kconfig.kexec', 'Kconfig.locks', 'Kconfig.preempt', 'kcov.c', 'kcsan', 'kexec.c', 'kexec_core.c', 'kexec_elf.c', 'kexec_file.c', 'kexec_internal.h', 'kheaders.c', 'kprobes.c', 'ksyms_common.c', 'ksysfs.c', 'kthread.c', 'latencytop.c', 'livepatch', 'locking', 'Makefile', 'module', 'module_signature.c', 'notifier.c', 'nsproxy.c', 'padata.c', 'panic.c', 'params.c', 'pid.c', 'pid_namespace.c', 'pid_sysctl.h', 'power', 'printk', 'profile.c', 'ptrace.c', 'range.c', 'rcu', 'reboot.c', 'regset.c', 'relay.c', 'resource.c', 'resource_kunit.c', 'rseq.c', 'scftorture.c', 'sched', 'scs.c', 'seccomp.c', 'signal.c', 'smp.c', 'smpboot.c', 'smpboot.h', 'softirq.c', 'stackleak.c', 'stacktrace.c', 'static_call.c', 'static_call_inline.c', 'stop_machine.c', 'sys.c', 'sysctl-test.c', 'sysctl.c', 'sys_ni.c', 'taskstats.c', 'task_work.c', 'time', 'torture.c', 'trace', 'tracepoint.c', 'tsacct.c', 'ucount.c', 'uid16.c', 'uid16.h', 'umh.c', 'up.c', 'user-return-notifier.c', 'user.c', 'usermode_driver.c', 'user_namespace.c', 'utsname.c', 'utsname_sysctl.c', 'vhost_task.c', 'vmcore_info.c', 'watchdog.c', 'watchdog_buddy.c', 'watchdog_perf.c', 'watch_queue.c', 'workqueue.c', 'workqueue_internal.h']\n"
     ]
    }
   ],
   "source": [
    "import os\n",
    "\n",
    "# Set path where C files reside (make sure the path is correct and fully specified)\n",
    "path = r\"M:/Professional/MachineLearningAndArtificialIntelligence_Course/27_Recurrent_Neural_Networks/Generating_C_Code/linux-master/linux-master/kernel\"\n",
    "\n",
    "# Change to the target directory\n",
    "if os.path.exists(path):\n",
    "    os.chdir(path)\n",
    "else:\n",
    "    print(f\"Path {path} does not exist.\")\n",
    "\n",
    "# List all files in the directory\n",
    "file_names = os.listdir()\n",
    "print(file_names)"
   ]
  },
  {
   "cell_type": "code",
   "execution_count": 8,
   "metadata": {
    "colab": {
     "base_uri": "https://localhost:8080/",
     "height": 231
    },
    "colab_type": "code",
    "id": "hO1StR3rX72I",
    "outputId": "42079a21-0a71-4fba-c90a-b13e3acbb909"
   },
   "outputs": [
    {
     "name": "stdout",
     "output_type": "stream",
     "text": [
      "['.gitignore', 'acct.c', 'async.c', 'audit.c', 'audit.h', 'auditfilter.c', 'auditsc.c', 'audit_fsnotify.c', 'audit_tree.c', 'audit_watch.c', 'backtracetest.c', 'bounds.c', 'bpf', 'capability.c', 'cfi.c', 'cgroup', 'compat.c', 'configs', 'configs.c', 'context_tracking.c', 'cpu.c', 'cpu_pm.c', 'crash_core.c', 'crash_reserve.c', 'cred.c', 'debug', 'delayacct.c', 'dma', 'dma.c', 'elfcorehdr.c', 'entry', 'events', 'exec_domain.c', 'exit.c', 'exit.h', 'extable.c', 'fail_function.c', 'fork.c', 'freezer.c', 'futex', 'gcov', 'gen_kheaders.sh', 'groups.c', 'hung_task.c', 'iomem.c', 'irq', 'irq_work.c', 'jump_label.c', 'kallsyms.c', 'kallsyms_internal.h', 'kallsyms_selftest.c', 'kallsyms_selftest.h', 'kcmp.c', 'Kconfig.freezer', 'Kconfig.hz', 'Kconfig.kexec', 'Kconfig.locks', 'Kconfig.preempt', 'kcov.c', 'kcsan', 'kexec.c', 'kexec_core.c', 'kexec_elf.c', 'kexec_file.c', 'kexec_internal.h', 'kheaders.c', 'kprobes.c', 'ksyms_common.c', 'ksysfs.c', 'kthread.c', 'latencytop.c', 'livepatch', 'locking', 'Makefile', 'module', 'module_signature.c', 'notifier.c', 'nsproxy.c', 'padata.c', 'panic.c', 'params.c', 'pid.c', 'pid_namespace.c', 'pid_sysctl.h', 'power', 'printk', 'profile.c', 'ptrace.c', 'range.c', 'rcu', 'reboot.c', 'regset.c', 'relay.c', 'resource.c', 'resource_kunit.c', 'rseq.c', 'scftorture.c', 'sched', 'scs.c', 'seccomp.c', 'signal.c', 'smp.c', 'smpboot.c', 'smpboot.h', 'softirq.c', 'stackleak.c', 'stacktrace.c', 'static_call.c', 'static_call_inline.c', 'stop_machine.c', 'sys.c', 'sysctl-test.c', 'sysctl.c', 'sys_ni.c', 'taskstats.c', 'task_work.c', 'time', 'torture.c', 'trace', 'tracepoint.c', 'tsacct.c', 'ucount.c', 'uid16.c', 'uid16.h', 'umh.c', 'up.c', 'user-return-notifier.c', 'user.c', 'usermode_driver.c', 'user_namespace.c', 'utsname.c', 'utsname_sysctl.c', 'vhost_task.c', 'vmcore_info.c', 'watchdog.c', 'watchdog_buddy.c', 'watchdog_perf.c', 'watch_queue.c', 'workqueue.c', 'workqueue_internal.h']\n"
     ]
    }
   ],
   "source": [
    "# set path where C files reside\n",
    "\n",
    "path = r\"M:/Professional/MachineLearningAndArtificialIntelligence_Course/27_Recurrent_Neural_Networks/Generating_C_Code/linux-master/linux-master/kernel\"\n",
    "\n",
    "os.chdir(path)\n",
    "\n",
    "file_names = os.listdir()\n",
    "print(file_names)"
   ]
  },
  {
   "cell_type": "code",
   "execution_count": 9,
   "metadata": {
    "colab": {
     "base_uri": "https://localhost:8080/",
     "height": 54
    },
    "colab_type": "code",
    "id": "jg9HW8HwYlga",
    "outputId": "851307c1-b3f1-4fc6-c191-76962a66052b"
   },
   "outputs": [
    {
     "name": "stdout",
     "output_type": "stream",
     "text": [
      "['acct.c', 'async.c', 'audit.c', 'auditfilter.c', 'auditsc.c', 'audit_fsnotify.c', 'audit_tree.c', 'audit_watch.c', 'backtracetest.c', 'bounds.c', 'capability.c', 'cfi.c', 'compat.c', 'configs.c', 'context_tracking.c', 'cpu.c', 'cpu_pm.c', 'crash_core.c', 'crash_reserve.c', 'cred.c', 'delayacct.c', 'dma.c', 'elfcorehdr.c', 'exec_domain.c', 'exit.c', 'extable.c', 'fail_function.c', 'fork.c', 'freezer.c', 'groups.c', 'hung_task.c', 'iomem.c', 'irq_work.c', 'jump_label.c', 'kallsyms.c', 'kallsyms_selftest.c', 'kcmp.c', 'kcov.c', 'kexec.c', 'kexec_core.c', 'kexec_elf.c', 'kexec_file.c', 'kheaders.c', 'kprobes.c', 'ksyms_common.c', 'ksysfs.c', 'kthread.c', 'latencytop.c', 'module_signature.c', 'notifier.c', 'nsproxy.c', 'padata.c', 'panic.c', 'params.c', 'pid.c', 'pid_namespace.c', 'profile.c', 'ptrace.c', 'range.c', 'reboot.c', 'regset.c', 'relay.c', 'resource.c', 'resource_kunit.c', 'rseq.c', 'scftorture.c', 'scs.c', 'seccomp.c', 'signal.c', 'smp.c', 'smpboot.c', 'softirq.c', 'stackleak.c', 'stacktrace.c', 'static_call.c', 'static_call_inline.c', 'stop_machine.c', 'sys.c', 'sysctl-test.c', 'sysctl.c', 'sys_ni.c', 'taskstats.c', 'task_work.c', 'torture.c', 'tracepoint.c', 'tsacct.c', 'ucount.c', 'uid16.c', 'umh.c', 'up.c', 'user-return-notifier.c', 'user.c', 'usermode_driver.c', 'user_namespace.c', 'utsname.c', 'utsname_sysctl.c', 'vhost_task.c', 'vmcore_info.c', 'watchdog.c', 'watchdog_buddy.c', 'watchdog_perf.c', 'watch_queue.c', 'workqueue.c']\n"
     ]
    }
   ],
   "source": [
    "# use regex to filter .c files\n",
    "import re\n",
    "c_names = \".*\\.c$\"\n",
    "\n",
    "c_files = list()\n",
    "\n",
    "for file in file_names:\n",
    "    if re.match(c_names, file):\n",
    "        c_files.append(file)\n",
    "\n",
    "print(c_files)"
   ]
  },
  {
   "cell_type": "code",
   "execution_count": 10,
   "metadata": {
    "colab": {},
    "colab_type": "code",
    "id": "QAbtuy5ZY87t"
   },
   "outputs": [],
   "source": [
    "# load all c code in a list\n",
    "full_code = list()\n",
    "for file in c_files:\n",
    "    code = open(file, \"r\", encoding='utf-8')\n",
    "    full_code.append(code.read())\n",
    "    code.close()"
   ]
  },
  {
   "cell_type": "code",
   "execution_count": 11,
   "metadata": {},
   "outputs": [
    {
     "name": "stdout",
     "output_type": "stream",
     "text": [
      "// SPDX-License-Identifier: GPL-2.0-or-later\n",
      "/* delayacct.c - per-task delay accounting\n",
      " *\n",
      " * Copyright (C) Shailabh Nagar, IBM Corp. 2006\n",
      " */\n",
      "\n",
      "#include <linux/sched.h>\n",
      "#include <linux/sched/task.h>\n",
      "#include <linux/sched/cputime.h>\n",
      "#include <linux/sched/clock.h>\n",
      "#include <linux/slab.h>\n",
      "#include <linux/taskstats.h>\n",
      "#include <linux/sysctl.h>\n",
      "#include <linux/delayacct.h>\n",
      "#include <linux/module.h>\n",
      "\n",
      "DEFINE_STATIC_KEY_FALSE(delayacct_key);\n",
      "int delayacct_on __read_mostly;\t/* Delay accounting turned on/off */\n",
      "struct kmem_cache *delayacct_cache;\n",
      "\n",
      "static void set_delayacct(bool enabled)\n",
      "{\n",
      "\tif (enabled) {\n",
      "\t\tstatic_branch_enable(&delayacct_key);\n",
      "\t\tdelayacct_on = 1;\n",
      "\t} else {\n",
      "\t\tdelayacct_on = 0;\n",
      "\t\tstatic_branch_disable(&delayacct_key);\n",
      "\t}\n",
      "}\n",
      "\n",
      "static int __init delayacct_setup_enable(char *str)\n",
      "{\n",
      "\tdelayacct_on = 1;\n",
      "\treturn 1;\n",
      "}\n",
      "__setup(\"delayacct\", delayacct_setup_enable);\n",
      "\n",
      "void delayacct_init(void)\n",
      "{\n",
      "\tdelayacct_cache = KMEM_CACHE(task_delay_info, SLAB_PANIC|SLAB_ACCOUNT);\n",
      "\tdelayacct_tsk_init(&init_task);\n",
      "\tset_delayacct(delayacct_on);\n",
      "}\n",
      "\n",
      "#ifdef CONFIG_PROC_SYSCTL\n",
      "static int sysctl_delayacct(const struct ctl_table *table, int write, void *buffer,\n",
      "\t\t     size_t *lenp, loff_t *ppos)\n",
      "{\n",
      "\tint state = delayacct_on;\n",
      "\tstruct ctl_table t;\n",
      "\tint err;\n",
      "\n",
      "\tif (write && !capable(CAP_SYS_ADMIN))\n",
      "\t\treturn -EPERM;\n",
      "\n",
      "\tt = *table;\n",
      "\tt.data = &state;\n",
      "\terr = proc_dointvec_minmax(&t, write, buffer, lenp, ppos);\n",
      "\tif (err < 0)\n",
      "\t\treturn err;\n",
      "\tif (write)\n",
      "\t\tset_delayacct(state);\n",
      "\treturn err;\n",
      "}\n",
      "\n",
      "static const struct ctl_table kern_delayacct_table[] = {\n",
      "\t{\n",
      "\t\t.procname       = \"task_delayacct\",\n",
      "\t\t.data           = NULL,\n",
      "\t\t.maxlen         = sizeof(unsigned int),\n",
      "\t\t.mode           = 0644,\n",
      "\t\t.proc_handler   = sysctl_delayacct,\n",
      "\t\t.extra1         = SYSCTL_ZERO,\n",
      "\t\t.extra2         = SYSCTL_ONE,\n",
      "\t},\n",
      "};\n",
      "\n",
      "static __init int kernel_delayacct_sysctls_init(void)\n",
      "{\n",
      "\tregister_sysctl_init(\"kernel\", kern_delayacct_table);\n",
      "\treturn 0;\n",
      "}\n",
      "late_initcall(kernel_delayacct_sysctls_init);\n",
      "#endif\n",
      "\n",
      "void __delayacct_tsk_init(struct task_struct *tsk)\n",
      "{\n",
      "\ttsk->delays = kmem_cache_zalloc(delayacct_cache, GFP_KERNEL);\n",
      "\tif (tsk->delays)\n",
      "\t\traw_spin_lock_init(&tsk->delays->lock);\n",
      "}\n",
      "\n",
      "/*\n",
      " * Finish delay accounting for a statistic using its timestamps (@start),\n",
      " * accumulator (@total) and @count\n",
      " */\n",
      "static void delayacct_end(raw_spinlock_t *lock, u64 *start, u64 *total, u32 *count, u64 *max, u64 *min)\n",
      "{\n",
      "\ts64 ns = local_clock() - *start;\n",
      "\tunsigned long flags;\n",
      "\n",
      "\tif (ns > 0) {\n",
      "\t\traw_spin_lock_irqsave(lock, flags);\n",
      "\t\t*total += ns;\n",
      "\t\t(*count)++;\n",
      "\t\tif (ns > *max)\n",
      "\t\t\t*max = ns;\n",
      "\t\tif (*min == 0 || ns < *min)\n",
      "\t\t\t*min = ns;\n",
      "\t\traw_spin_unlock_irqrestore(lock, flags);\n",
      "\t}\n",
      "}\n",
      "\n",
      "void __delayacct_blkio_start(void)\n",
      "{\n",
      "\tcurrent->delays->blkio_start = local_clock();\n",
      "}\n",
      "\n",
      "/*\n",
      " * We cannot rely on the `current` macro, as we haven't yet switched back to\n",
      " * the process being woken.\n",
      " */\n",
      "void __delayacct_blkio_end(struct task_struct *p)\n",
      "{\n",
      "\tdelayacct_end(&p->delays->lock,\n",
      "\t\t      &p->delays->blkio_start,\n",
      "\t\t      &p->delays->blkio_delay,\n",
      "\t\t      &p->delays->blkio_count,\n",
      "\t\t      &p->delays->blkio_delay_max,\n",
      "\t\t      &p->delays->blkio_delay_min);\n",
      "}\n",
      "\n",
      "int delayacct_add_tsk(struct taskstats *d, struct task_struct *tsk)\n",
      "{\n",
      "\tu64 utime, stime, stimescaled, utimescaled;\n",
      "\tunsigned long long t2, t3;\n",
      "\tunsigned long flags, t1;\n",
      "\ts64 tmp;\n",
      "\n",
      "\ttask_cputime(tsk, &utime, &stime);\n",
      "\ttmp = (s64)d->cpu_run_real_total;\n",
      "\ttmp += utime + stime;\n",
      "\td->cpu_run_real_total = (tmp < (s64)d->cpu_run_real_total) ? 0 : tmp;\n",
      "\n",
      "\ttask_cputime_scaled(tsk, &utimescaled, &stimescaled);\n",
      "\ttmp = (s64)d->cpu_scaled_run_real_total;\n",
      "\ttmp += utimescaled + stimescaled;\n",
      "\td->cpu_scaled_run_real_total =\n",
      "\t\t(tmp < (s64)d->cpu_scaled_run_real_total) ? 0 : tmp;\n",
      "\n",
      "\t/*\n",
      "\t * No locking available for sched_info (and too expensive to add one)\n",
      "\t * Mitigate by taking snapshot of values\n",
      "\t */\n",
      "\tt1 = tsk->sched_info.pcount;\n",
      "\tt2 = tsk->sched_info.run_delay;\n",
      "\tt3 = tsk->se.sum_exec_runtime;\n",
      "\n",
      "\td->cpu_count += t1;\n",
      "\n",
      "\td->cpu_delay_max = tsk->sched_info.max_run_delay;\n",
      "\td->cpu_delay_min = tsk->sched_info.min_run_delay;\n",
      "\ttmp = (s64)d->cpu_delay_total + t2;\n",
      "\td->cpu_delay_total = (tmp < (s64)d->cpu_delay_total) ? 0 : tmp;\n",
      "\ttmp = (s64)d->cpu_run_virtual_total + t3;\n",
      "\n",
      "\td->cpu_run_virtual_total =\n",
      "\t\t(tmp < (s64)d->cpu_run_virtual_total) ?\t0 : tmp;\n",
      "\n",
      "\tif (!tsk->delays)\n",
      "\t\treturn 0;\n",
      "\n",
      "\t/* zero XXX_total, non-zero XXX_count implies XXX stat overflowed */\n",
      "\traw_spin_lock_irqsave(&tsk->delays->lock, flags);\n",
      "\td->blkio_delay_max = tsk->delays->blkio_delay_max;\n",
      "\td->blkio_delay_min = tsk->delays->blkio_delay_min;\n",
      "\ttmp = d->blkio_delay_total + tsk->delays->blkio_delay;\n",
      "\td->blkio_delay_total = (tmp < d->blkio_delay_total) ? 0 : tmp;\n",
      "\td->swapin_delay_max = tsk->delays->swapin_delay_max;\n",
      "\td->swapin_delay_min = tsk->delays->swapin_delay_min;\n",
      "\ttmp = d->swapin_delay_total + tsk->delays->swapin_delay;\n",
      "\td->swapin_delay_total = (tmp < d->swapin_delay_total) ? 0 : tmp;\n",
      "\td->freepages_delay_max = tsk->delays->freepages_delay_max;\n",
      "\td->freepages_delay_min = tsk->delays->freepages_delay_min;\n",
      "\ttmp = d->freepages_delay_total + tsk->delays->freepages_delay;\n",
      "\td->freepages_delay_total = (tmp < d->freepages_delay_total) ? 0 : tmp;\n",
      "\td->thrashing_delay_max = tsk->delays->thrashing_delay_max;\n",
      "\td->thrashing_delay_min = tsk->delays->thrashing_delay_min;\n",
      "\ttmp = d->thrashing_delay_total + tsk->delays->thrashing_delay;\n",
      "\td->thrashing_delay_total = (tmp < d->thrashing_delay_total) ? 0 : tmp;\n",
      "\td->compact_delay_max = tsk->delays->compact_delay_max;\n",
      "\td->compact_delay_min = tsk->delays->compact_delay_min;\n",
      "\ttmp = d->compact_delay_total + tsk->delays->compact_delay;\n",
      "\td->compact_delay_total = (tmp < d->compact_delay_total) ? 0 : tmp;\n",
      "\td->wpcopy_delay_max = tsk->delays->wpcopy_delay_max;\n",
      "\td->wpcopy_delay_min = tsk->delays->wpcopy_delay_min;\n",
      "\ttmp = d->wpcopy_delay_total + tsk->delays->wpcopy_delay;\n",
      "\td->wpcopy_delay_total = (tmp < d->wpcopy_delay_total) ? 0 : tmp;\n",
      "\td->irq_delay_max = tsk->delays->irq_delay_max;\n",
      "\td->irq_delay_min = tsk->delays->irq_delay_min;\n",
      "\ttmp = d->irq_delay_total + tsk->delays->irq_delay;\n",
      "\td->irq_delay_total = (tmp < d->irq_delay_total) ? 0 : tmp;\n",
      "\td->blkio_count += tsk->delays->blkio_count;\n",
      "\td->swapin_count += tsk->delays->swapin_count;\n",
      "\td->freepages_count += tsk->delays->freepages_count;\n",
      "\td->thrashing_count += tsk->delays->thrashing_count;\n",
      "\td->compact_count += tsk->delays->compact_count;\n",
      "\td->wpcopy_count += tsk->delays->wpcopy_count;\n",
      "\td->irq_count += tsk->delays->irq_count;\n",
      "\traw_spin_unlock_irqrestore(&tsk->delays->lock, flags);\n",
      "\n",
      "\treturn 0;\n",
      "}\n",
      "\n",
      "__u64 __delayacct_blkio_ticks(struct task_struct *tsk)\n",
      "{\n",
      "\t__u64 ret;\n",
      "\tunsigned long flags;\n",
      "\n",
      "\traw_spin_lock_irqsave(&tsk->delays->lock, flags);\n",
      "\tret = nsec_to_clock_t(tsk->delays->blkio_delay);\n",
      "\traw_spin_unlock_irqrestore(&tsk->delays->lock, flags);\n",
      "\treturn ret;\n",
      "}\n",
      "\n",
      "void __delayacct_freepages_start(void)\n",
      "{\n",
      "\tcurrent->delays->freepages_start = local_clock();\n",
      "}\n",
      "\n",
      "void __delayacct_freepages_end(void)\n",
      "{\n",
      "\tdelayacct_end(&current->delays->lock,\n",
      "\t\t      &current->delays->freepages_start,\n",
      "\t\t      &current->delays->freepages_delay,\n",
      "\t\t      &current->delays->freepages_count,\n",
      "\t\t      &current->delays->freepages_delay_max,\n",
      "\t\t      &current->delays->freepages_delay_min);\n",
      "}\n",
      "\n",
      "void __delayacct_thrashing_start(bool *in_thrashing)\n",
      "{\n",
      "\t*in_thrashing = !!current->in_thrashing;\n",
      "\tif (*in_thrashing)\n",
      "\t\treturn;\n",
      "\n",
      "\tcurrent->in_thrashing = 1;\n",
      "\tcurrent->delays->thrashing_start = local_clock();\n",
      "}\n",
      "\n",
      "void __delayacct_thrashing_end(bool *in_thrashing)\n",
      "{\n",
      "\tif (*in_thrashing)\n",
      "\t\treturn;\n",
      "\n",
      "\tcurrent->in_thrashing = 0;\n",
      "\tdelayacct_end(&current->delays->lock,\n",
      "\t\t      &current->delays->thrashing_start,\n",
      "\t\t      &current->delays->thrashing_delay,\n",
      "\t\t      &current->delays->thrashing_count,\n",
      "\t\t      &current->delays->thrashing_delay_max,\n",
      "\t\t      &current->delays->thrashing_delay_min);\n",
      "}\n",
      "\n",
      "void __delayacct_swapin_start(void)\n",
      "{\n",
      "\tcurrent->delays->swapin_start = local_clock();\n",
      "}\n",
      "\n",
      "void __delayacct_swapin_end(void)\n",
      "{\n",
      "\tdelayacct_end(&current->delays->lock,\n",
      "\t\t      &current->delays->swapin_start,\n",
      "\t\t      &current->delays->swapin_delay,\n",
      "\t\t      &current->delays->swapin_count,\n",
      "\t\t      &current->delays->swapin_delay_max,\n",
      "\t\t      &current->delays->swapin_delay_min);\n",
      "}\n",
      "\n",
      "void __delayacct_compact_start(void)\n",
      "{\n",
      "\tcurrent->delays->compact_start = local_clock();\n",
      "}\n",
      "\n",
      "void __delayacct_compact_end(void)\n",
      "{\n",
      "\tdelayacct_end(&current->delays->lock,\n",
      "\t\t      &current->delays->compact_start,\n",
      "\t\t      &current->delays->compact_delay,\n",
      "\t\t      &current->delays->compact_count,\n",
      "\t\t      &current->delays->compact_delay_max,\n",
      "\t\t      &current->delays->compact_delay_min);\n",
      "}\n",
      "\n",
      "void __delayacct_wpcopy_start(void)\n",
      "{\n",
      "\tcurrent->delays->wpcopy_start = local_clock();\n",
      "}\n",
      "\n",
      "void __delayacct_wpcopy_end(void)\n",
      "{\n",
      "\tdelayacct_end(&current->delays->lock,\n",
      "\t\t      &current->delays->wpcopy_start,\n",
      "\t\t      &current->delays->wpcopy_delay,\n",
      "\t\t      &current->delays->wpcopy_count,\n",
      "\t\t      &current->delays->wpcopy_delay_max,\n",
      "\t\t      &current->delays->wpcopy_delay_min);\n",
      "}\n",
      "\n",
      "void __delayacct_irq(struct task_struct *task, u32 delta)\n",
      "{\n",
      "\tunsigned long flags;\n",
      "\n",
      "\traw_spin_lock_irqsave(&task->delays->lock, flags);\n",
      "\ttask->delays->irq_delay += delta;\n",
      "\ttask->delays->irq_count++;\n",
      "\tif (delta > task->delays->irq_delay_max)\n",
      "\t\ttask->delays->irq_delay_max = delta;\n",
      "\tif (delta && (!task->delays->irq_delay_min || delta < task->delays->irq_delay_min))\n",
      "\t\ttask->delays->irq_delay_min = delta;\n",
      "\traw_spin_unlock_irqrestore(&task->delays->lock, flags);\n",
      "}\n",
      "\n",
      "\n"
     ]
    }
   ],
   "source": [
    "# let's look at how a typical C code looks like\n",
    "print(full_code[20])"
   ]
  },
  {
   "cell_type": "code",
   "execution_count": 12,
   "metadata": {
    "colab": {
     "base_uri": "https://localhost:8080/",
     "height": 51
    },
    "colab_type": "code",
    "id": "4PvwiZVwY__A",
    "outputId": "8363fd91-2706-4d2d-c18d-fa275ff631ef"
   },
   "outputs": [
    {
     "name": "stdout",
     "output_type": "stream",
     "text": [
      "Total number of characters in entire code: 2243920\n"
     ]
    }
   ],
   "source": [
    "# merge different c codes into one big c code\n",
    "text = \"\\n\".join(full_code)\n",
    "print(\"Total number of characters in entire code: {}\".format(len(text)))"
   ]
  },
  {
   "cell_type": "code",
   "execution_count": 13,
   "metadata": {
    "colab": {},
    "colab_type": "code",
    "id": "GxDf0tsBb6Pq"
   },
   "outputs": [],
   "source": [
    "# top_n: only consider first top_n characters and discard the rest for memory and computational efficiency\n",
    "top_n = 400000\n",
    "text = text[:top_n]"
   ]
  },
  {
   "cell_type": "markdown",
   "metadata": {},
   "source": [
    "## Convert characters to integers"
   ]
  },
  {
   "cell_type": "code",
   "execution_count": 15,
   "metadata": {
    "colab": {
     "base_uri": "https://localhost:8080/",
     "height": 51
    },
    "colab_type": "code",
    "id": "_d5CrHJbaQhQ",
    "outputId": "0cde325b-25e4-4b54-afd2-af2bafec2b0c"
   },
   "outputs": [],
   "source": [
    "# create character to index mapping\n",
    "chars = sorted(list(set(text)))\n",
    "char_indices = dict((c, i) for i, c in enumerate(chars))\n",
    "indices_char = dict((i, c) for i, c in enumerate(chars))"
   ]
  },
  {
   "cell_type": "code",
   "execution_count": 16,
   "metadata": {},
   "outputs": [
    {
     "name": "stdout",
     "output_type": "stream",
     "text": [
      "Vocabulary size: 95\n"
     ]
    }
   ],
   "source": [
    "print(\"Vocabulary size: {}\".format(len(chars)))"
   ]
  },
  {
   "cell_type": "markdown",
   "metadata": {},
   "source": [
    "## Divide data in input (X) and output (y)"
   ]
  },
  {
   "cell_type": "markdown",
   "metadata": {},
   "source": [
    "### Create sequences"
   ]
  },
  {
   "cell_type": "code",
   "execution_count": 19,
   "metadata": {},
   "outputs": [],
   "source": [
    "# define length for each sequence\n",
    "MAX_SEQ_LENGTH = 50          # number of input characters (X) in each sequence \n",
    "STEP           = 3           # increment between each sequence\n",
    "VOCAB_SIZE     = len(chars)  # total number of unique characters in dataset\n",
    "\n",
    "sentences  = []              # X\n",
    "next_chars = []              # y\n",
    "\n",
    "for i in range(0, len(text) - MAX_SEQ_LENGTH, STEP):\n",
    "    sentences.append(text[i: i + MAX_SEQ_LENGTH])\n",
    "    next_chars.append(text[i + MAX_SEQ_LENGTH])"
   ]
  },
  {
   "cell_type": "code",
   "execution_count": 20,
   "metadata": {},
   "outputs": [
    {
     "name": "stdout",
     "output_type": "stream",
     "text": [
      "Number of training samples: 133317\n"
     ]
    }
   ],
   "source": [
    "print('Number of training samples: {}'.format(len(sentences)))"
   ]
  },
  {
   "cell_type": "markdown",
   "metadata": {},
   "source": [
    "## Create input and output using the created sequences\n",
    "\n",
    "When you're not using the Embedding layer of the Keras as the very first layer, you need to convert your data in the following format:\n",
    "#### input shape should be of the form :  (#samples, #timesteps, #features)\n",
    "#### output shape should be of the form :  (#samples, #timesteps, #features)\n",
    "\n",
    "![Tensor shape](./jupyter resources/rnn_tensor.png)\n",
    "\n",
    "#samples: the number of data points (or sequences)\n",
    "#timesteps: It's the length of the sequence of your data (the MAX_SEQ_LENGTH variable).\n",
    "#features: Number of features depends on the type of problem. In this problem, #features is the vocabulary size, that is, the dimensionality of the one-hot encoding matrix using which each character is being represented. If you're working with **images**, features size will be equal to: (height, width, channels), and the input shape will be (#training_samples, #timesteps, height, width, channels)"
   ]
  },
  {
   "cell_type": "code",
   "execution_count": 22,
   "metadata": {
    "colab": {
     "base_uri": "https://localhost:8080/",
     "height": 34
    },
    "colab_type": "code",
    "id": "jJmhr1nBbSiC",
    "outputId": "a48f2ece-7538-4b51-8e45-6efbbdc3ce9e"
   },
   "outputs": [],
   "source": [
    "# create X and y\n",
    "X = np.zeros((len(sentences), MAX_SEQ_LENGTH, VOCAB_SIZE), dtype=np.bool_)\n",
    "y = np.zeros((len(sentences), VOCAB_SIZE), dtype=np.bool_)\n",
    "for i, sentence in enumerate(sentences):\n",
    "    for t, char in enumerate(sentence):\n",
    "        X[i, t, char_indices[char]] = 1\n",
    "    y[i, char_indices[next_chars[i]]] = 1"
   ]
  },
  {
   "cell_type": "code",
   "execution_count": 23,
   "metadata": {},
   "outputs": [
    {
     "name": "stdout",
     "output_type": "stream",
     "text": [
      "Shape of X: (133317, 50, 95)\n",
      "Shape of y: (133317, 95)\n"
     ]
    }
   ],
   "source": [
    "print(\"Shape of X: {}\".format(X.shape))\n",
    "print(\"Shape of y: {}\".format(y.shape))"
   ]
  },
  {
   "cell_type": "markdown",
   "metadata": {},
   "source": [
    "Here, X is reshaped to (#samples, #timesteps, #features). We have explicitly mentioned the third dimension (#features) because we won't use the Embedding() layer of Keras in this case since there are only 97 characters. Characters can be represented as one-hot encoded vector. There are no word embeddings for characters."
   ]
  },
  {
   "cell_type": "markdown",
   "metadata": {},
   "source": [
    "# 2. LSTM"
   ]
  },
  {
   "cell_type": "code",
   "execution_count": 37,
   "metadata": {
    "colab": {
     "base_uri": "https://localhost:8080/",
     "height": 34
    },
    "colab_type": "code",
    "id": "SRxBIMFDbNVt",
    "outputId": "024eb3c9-ed16-413e-b71c-5217bc0d949f"
   },
   "outputs": [],
   "source": [
    "# define model architecture - using a two-layer LSTM with 128 LSTM cells in each layer\n",
    "model = Sequential()\n",
    "model.add(LSTM(128, input_shape=(MAX_SEQ_LENGTH, VOCAB_SIZE), return_sequences=True, dropout=0.01))\n",
    "model.add(LSTM(128, dropout=0.01))\n",
    "model.add(Dense(VOCAB_SIZE, activation = \"softmax\"))\n",
    "\n",
    "optimizer = Adam(learning_rate=0.01)\n",
    "model.compile(loss='categorical_crossentropy', optimizer=optimizer, metrics = ['acc'])"
   ]
  },
  {
   "cell_type": "code",
   "execution_count": 39,
   "metadata": {
    "colab": {
     "base_uri": "https://localhost:8080/",
     "height": 238
    },
    "colab_type": "code",
    "id": "SRaWKzBjeTpc",
    "outputId": "e26e7088-294c-4cc8-a1ea-7855a97e15ae"
   },
   "outputs": [
    {
     "data": {
      "text/html": [
       "<pre style=\"white-space:pre;overflow-x:auto;line-height:normal;font-family:Menlo,'DejaVu Sans Mono',consolas,'Courier New',monospace\"><span style=\"font-weight: bold\">Model: \"sequential_3\"</span>\n",
       "</pre>\n"
      ],
      "text/plain": [
       "\u001b[1mModel: \"sequential_3\"\u001b[0m\n"
      ]
     },
     "metadata": {},
     "output_type": "display_data"
    },
    {
     "data": {
      "text/html": [
       "<pre style=\"white-space:pre;overflow-x:auto;line-height:normal;font-family:Menlo,'DejaVu Sans Mono',consolas,'Courier New',monospace\">┏━━━━━━━━━━━━━━━━━━━━━━━━━━━━━━━━━┳━━━━━━━━━━━━━━━━━━━━━━━━┳━━━━━━━━━━━━━━━┓\n",
       "┃<span style=\"font-weight: bold\"> Layer (type)                    </span>┃<span style=\"font-weight: bold\"> Output Shape           </span>┃<span style=\"font-weight: bold\">       Param # </span>┃\n",
       "┡━━━━━━━━━━━━━━━━━━━━━━━━━━━━━━━━━╇━━━━━━━━━━━━━━━━━━━━━━━━╇━━━━━━━━━━━━━━━┩\n",
       "│ lstm_6 (<span style=\"color: #0087ff; text-decoration-color: #0087ff\">LSTM</span>)                   │ (<span style=\"color: #00d7ff; text-decoration-color: #00d7ff\">None</span>, <span style=\"color: #00af00; text-decoration-color: #00af00\">50</span>, <span style=\"color: #00af00; text-decoration-color: #00af00\">128</span>)        │       <span style=\"color: #00af00; text-decoration-color: #00af00\">114,688</span> │\n",
       "├─────────────────────────────────┼────────────────────────┼───────────────┤\n",
       "│ lstm_7 (<span style=\"color: #0087ff; text-decoration-color: #0087ff\">LSTM</span>)                   │ (<span style=\"color: #00d7ff; text-decoration-color: #00d7ff\">None</span>, <span style=\"color: #00af00; text-decoration-color: #00af00\">128</span>)            │       <span style=\"color: #00af00; text-decoration-color: #00af00\">131,584</span> │\n",
       "├─────────────────────────────────┼────────────────────────┼───────────────┤\n",
       "│ dense_3 (<span style=\"color: #0087ff; text-decoration-color: #0087ff\">Dense</span>)                 │ (<span style=\"color: #00d7ff; text-decoration-color: #00d7ff\">None</span>, <span style=\"color: #00af00; text-decoration-color: #00af00\">95</span>)             │        <span style=\"color: #00af00; text-decoration-color: #00af00\">12,255</span> │\n",
       "└─────────────────────────────────┴────────────────────────┴───────────────┘\n",
       "</pre>\n"
      ],
      "text/plain": [
       "┏━━━━━━━━━━━━━━━━━━━━━━━━━━━━━━━━━┳━━━━━━━━━━━━━━━━━━━━━━━━┳━━━━━━━━━━━━━━━┓\n",
       "┃\u001b[1m \u001b[0m\u001b[1mLayer (type)                   \u001b[0m\u001b[1m \u001b[0m┃\u001b[1m \u001b[0m\u001b[1mOutput Shape          \u001b[0m\u001b[1m \u001b[0m┃\u001b[1m \u001b[0m\u001b[1m      Param #\u001b[0m\u001b[1m \u001b[0m┃\n",
       "┡━━━━━━━━━━━━━━━━━━━━━━━━━━━━━━━━━╇━━━━━━━━━━━━━━━━━━━━━━━━╇━━━━━━━━━━━━━━━┩\n",
       "│ lstm_6 (\u001b[38;5;33mLSTM\u001b[0m)                   │ (\u001b[38;5;45mNone\u001b[0m, \u001b[38;5;34m50\u001b[0m, \u001b[38;5;34m128\u001b[0m)        │       \u001b[38;5;34m114,688\u001b[0m │\n",
       "├─────────────────────────────────┼────────────────────────┼───────────────┤\n",
       "│ lstm_7 (\u001b[38;5;33mLSTM\u001b[0m)                   │ (\u001b[38;5;45mNone\u001b[0m, \u001b[38;5;34m128\u001b[0m)            │       \u001b[38;5;34m131,584\u001b[0m │\n",
       "├─────────────────────────────────┼────────────────────────┼───────────────┤\n",
       "│ dense_3 (\u001b[38;5;33mDense\u001b[0m)                 │ (\u001b[38;5;45mNone\u001b[0m, \u001b[38;5;34m95\u001b[0m)             │        \u001b[38;5;34m12,255\u001b[0m │\n",
       "└─────────────────────────────────┴────────────────────────┴───────────────┘\n"
      ]
     },
     "metadata": {},
     "output_type": "display_data"
    },
    {
     "data": {
      "text/html": [
       "<pre style=\"white-space:pre;overflow-x:auto;line-height:normal;font-family:Menlo,'DejaVu Sans Mono',consolas,'Courier New',monospace\"><span style=\"font-weight: bold\"> Total params: </span><span style=\"color: #00af00; text-decoration-color: #00af00\">258,527</span> (1009.87 KB)\n",
       "</pre>\n"
      ],
      "text/plain": [
       "\u001b[1m Total params: \u001b[0m\u001b[38;5;34m258,527\u001b[0m (1009.87 KB)\n"
      ]
     },
     "metadata": {},
     "output_type": "display_data"
    },
    {
     "data": {
      "text/html": [
       "<pre style=\"white-space:pre;overflow-x:auto;line-height:normal;font-family:Menlo,'DejaVu Sans Mono',consolas,'Courier New',monospace\"><span style=\"font-weight: bold\"> Trainable params: </span><span style=\"color: #00af00; text-decoration-color: #00af00\">258,527</span> (1009.87 KB)\n",
       "</pre>\n"
      ],
      "text/plain": [
       "\u001b[1m Trainable params: \u001b[0m\u001b[38;5;34m258,527\u001b[0m (1009.87 KB)\n"
      ]
     },
     "metadata": {},
     "output_type": "display_data"
    },
    {
     "data": {
      "text/html": [
       "<pre style=\"white-space:pre;overflow-x:auto;line-height:normal;font-family:Menlo,'DejaVu Sans Mono',consolas,'Courier New',monospace\"><span style=\"font-weight: bold\"> Non-trainable params: </span><span style=\"color: #00af00; text-decoration-color: #00af00\">0</span> (0.00 B)\n",
       "</pre>\n"
      ],
      "text/plain": [
       "\u001b[1m Non-trainable params: \u001b[0m\u001b[38;5;34m0\u001b[0m (0.00 B)\n"
      ]
     },
     "metadata": {},
     "output_type": "display_data"
    }
   ],
   "source": [
    "# check model summary\n",
    "model.summary()"
   ]
  },
  {
   "cell_type": "code",
   "execution_count": 41,
   "metadata": {
    "colab": {},
    "colab_type": "code",
    "id": "d_TS0hmWbm17"
   },
   "outputs": [
    {
     "name": "stdout",
     "output_type": "stream",
     "text": [
      "Epoch 1/20\n",
      "\u001b[1m1042/1042\u001b[0m \u001b[32m━━━━━━━━━━━━━━━━━━━━\u001b[0m\u001b[37m\u001b[0m \u001b[1m105s\u001b[0m 96ms/step - acc: 0.2459 - loss: 2.9260\n",
      "Epoch 2/20\n",
      "\u001b[1m1042/1042\u001b[0m \u001b[32m━━━━━━━━━━━━━━━━━━━━\u001b[0m\u001b[37m\u001b[0m \u001b[1m119s\u001b[0m 115ms/step - acc: 0.5218 - loss: 1.7496\n",
      "Epoch 3/20\n",
      "\u001b[1m1042/1042\u001b[0m \u001b[32m━━━━━━━━━━━━━━━━━━━━\u001b[0m\u001b[37m\u001b[0m \u001b[1m122s\u001b[0m 117ms/step - acc: 0.5862 - loss: 1.4833\n",
      "Epoch 4/20\n",
      "\u001b[1m1042/1042\u001b[0m \u001b[32m━━━━━━━━━━━━━━━━━━━━\u001b[0m\u001b[37m\u001b[0m \u001b[1m110s\u001b[0m 106ms/step - acc: 0.3580 - loss: 2.5400\n",
      "Epoch 5/20\n",
      "\u001b[1m1042/1042\u001b[0m \u001b[32m━━━━━━━━━━━━━━━━━━━━\u001b[0m\u001b[37m\u001b[0m \u001b[1m107s\u001b[0m 103ms/step - acc: 0.3746 - loss: 2.4477\n",
      "Epoch 6/20\n",
      "\u001b[1m1042/1042\u001b[0m \u001b[32m━━━━━━━━━━━━━━━━━━━━\u001b[0m\u001b[37m\u001b[0m \u001b[1m113s\u001b[0m 108ms/step - acc: 0.1308 - loss: 3.4038\n",
      "Epoch 7/20\n",
      "\u001b[1m1042/1042\u001b[0m \u001b[32m━━━━━━━━━━━━━━━━━━━━\u001b[0m\u001b[37m\u001b[0m \u001b[1m111s\u001b[0m 107ms/step - acc: 0.1785 - loss: 3.1880\n",
      "Epoch 8/20\n",
      "\u001b[1m1042/1042\u001b[0m \u001b[32m━━━━━━━━━━━━━━━━━━━━\u001b[0m\u001b[37m\u001b[0m \u001b[1m120s\u001b[0m 116ms/step - acc: 0.2138 - loss: 3.0182\n",
      "Epoch 9/20\n",
      "\u001b[1m1042/1042\u001b[0m \u001b[32m━━━━━━━━━━━━━━━━━━━━\u001b[0m\u001b[37m\u001b[0m \u001b[1m123s\u001b[0m 118ms/step - acc: 0.2326 - loss: 2.9317\n",
      "Epoch 10/20\n",
      "\u001b[1m1042/1042\u001b[0m \u001b[32m━━━━━━━━━━━━━━━━━━━━\u001b[0m\u001b[37m\u001b[0m \u001b[1m126s\u001b[0m 121ms/step - acc: 0.2459 - loss: 2.8693\n",
      "Epoch 11/20\n",
      "\u001b[1m1042/1042\u001b[0m \u001b[32m━━━━━━━━━━━━━━━━━━━━\u001b[0m\u001b[37m\u001b[0m \u001b[1m136s\u001b[0m 130ms/step - acc: 0.2462 - loss: 2.8697\n",
      "Epoch 12/20\n",
      "\u001b[1m1042/1042\u001b[0m \u001b[32m━━━━━━━━━━━━━━━━━━━━\u001b[0m\u001b[37m\u001b[0m \u001b[1m142s\u001b[0m 137ms/step - acc: 0.2563 - loss: 2.8228\n",
      "Epoch 13/20\n",
      "\u001b[1m1042/1042\u001b[0m \u001b[32m━━━━━━━━━━━━━━━━━━━━\u001b[0m\u001b[37m\u001b[0m \u001b[1m131s\u001b[0m 126ms/step - acc: 0.2653 - loss: 2.7815\n",
      "Epoch 14/20\n",
      "\u001b[1m1042/1042\u001b[0m \u001b[32m━━━━━━━━━━━━━━━━━━━━\u001b[0m\u001b[37m\u001b[0m \u001b[1m143s\u001b[0m 137ms/step - acc: 0.2507 - loss: 2.8410\n",
      "Epoch 15/20\n",
      "\u001b[1m1042/1042\u001b[0m \u001b[32m━━━━━━━━━━━━━━━━━━━━\u001b[0m\u001b[37m\u001b[0m \u001b[1m139s\u001b[0m 133ms/step - acc: 0.2476 - loss: 2.8419\n",
      "Epoch 16/20\n",
      "\u001b[1m1042/1042\u001b[0m \u001b[32m━━━━━━━━━━━━━━━━━━━━\u001b[0m\u001b[37m\u001b[0m \u001b[1m130s\u001b[0m 125ms/step - acc: 0.2661 - loss: 2.7661\n",
      "Epoch 17/20\n",
      "\u001b[1m1042/1042\u001b[0m \u001b[32m━━━━━━━━━━━━━━━━━━━━\u001b[0m\u001b[37m\u001b[0m \u001b[1m130s\u001b[0m 125ms/step - acc: 0.2741 - loss: 2.7175\n",
      "Epoch 18/20\n",
      "\u001b[1m1042/1042\u001b[0m \u001b[32m━━━━━━━━━━━━━━━━━━━━\u001b[0m\u001b[37m\u001b[0m \u001b[1m125s\u001b[0m 120ms/step - acc: 0.2798 - loss: 2.6870\n",
      "Epoch 19/20\n",
      "\u001b[1m1042/1042\u001b[0m \u001b[32m━━━━━━━━━━━━━━━━━━━━\u001b[0m\u001b[37m\u001b[0m \u001b[1m13537s\u001b[0m 13s/step - acc: 0.2724 - loss: 2.7315\n",
      "Epoch 20/20\n",
      "\u001b[1m1042/1042\u001b[0m \u001b[32m━━━━━━━━━━━━━━━━━━━━\u001b[0m\u001b[37m\u001b[0m \u001b[1m132s\u001b[0m 126ms/step - acc: 0.2881 - loss: 2.6599\n"
     ]
    },
    {
     "data": {
      "text/plain": [
       "<keras.src.callbacks.history.History at 0x1c6e6cdd850>"
      ]
     },
     "execution_count": 41,
     "metadata": {},
     "output_type": "execute_result"
    }
   ],
   "source": [
    "# fit model\n",
    "model.fit(X, y, batch_size=128, epochs=20)"
   ]
  },
  {
   "cell_type": "markdown",
   "metadata": {},
   "source": [
    "# 3. Generate code"
   ]
  },
  {
   "cell_type": "markdown",
   "metadata": {},
   "source": [
    "Create a function that will make next character predictions based on temperature. If temperature is greater than 1, the generated characters will be more versatile and diverse. On the other hand, if temperature is less than one, the generated characters will be much more conservative."
   ]
  },
  {
   "cell_type": "code",
   "execution_count": 43,
   "metadata": {},
   "outputs": [],
   "source": [
    "# define function to sample next word from a probability array based on temperature\n",
    "def sample(preds, temperature=1.0):\n",
    "    preds = np.asarray(preds).astype('float64')\n",
    "    preds = np.log(preds) / temperature\n",
    "    exp_preds = np.exp(preds)\n",
    "    preds = exp_preds / np.sum(exp_preds)\n",
    "    probas = np.random.multinomial(1, preds, 1)\n",
    "    return np.argmax(probas)"
   ]
  },
  {
   "cell_type": "code",
   "execution_count": 45,
   "metadata": {},
   "outputs": [
    {
     "data": {
      "text/plain": [
       "array([[ 0, 10,  0],\n",
       "       [ 0,  9,  1]])"
      ]
     },
     "execution_count": 45,
     "metadata": {},
     "output_type": "execute_result"
    }
   ],
   "source": [
    "np.random.multinomial(10, [0.05, 0.9, 0.05], size=2)"
   ]
  },
  {
   "cell_type": "code",
   "execution_count": 47,
   "metadata": {
    "colab": {
     "base_uri": "https://localhost:8080/",
     "height": 2043
    },
    "colab_type": "code",
    "id": "vN3EBDrHFKEl",
    "outputId": "73beff0d-e800-43ee-db90-2c2fd205e300"
   },
   "outputs": [
    {
     "name": "stdout",
     "output_type": "stream",
     "text": [
      "-------------------------------------------------- diversity: 0.5\n",
      "----- Generating with seed: \"ntext save/restore which shouldn't be interrupted.\"\n",
      "ntext save/restore which shouldn't be interrupted.\n",
      "\t\t\t\t\taa>coatunt_cocrace coctactet & *  * Af ruat cactetaon all cot ent to coccle  *\n",
      "\n",
      "\t\t\t\t\t\t\t\t\t\t\t\t\t\t}\n",
      "\n",
      "\t\t\t\t\t\t\t\t\t\t\t\t\t\t\t\t\t\t\t\t\t\t\t\t\t\t\t\ttant_speat AUAAT_AAADIT_OAT_AUAT;\n",
      "\n",
      "\t\t\t\t\t\t\t\t\t\t\t\t\t\t\t\t\t\t\t\t\t\t * sotes(AADEEIT, * * * AEEIT_AAALD_RAT_AAP_AAAVAT_TL_SUUET_SHATIT *  * * = ufaate che cousofacgoc retee atetes cet fen vouto  \n",
      "\t\t\t\t\t\t\t\t\t\t\t\t\t\t\t\t\t\t\t\t\t\t\t\t\t\t\t\t\t\t\t\t\t\t\t\t\t\t\t\t\t\t\t\t\t\t\t\t\t\t\t\t\t\t  * *  *\t\t\t\t\t\t\t\tac (pe *toterure AUAAT_OAT_AAUSAAD *    ac cauteget ttost ac are: costunt cetart ac bent coct chochace ratoet stet_etemebit fate *\t\t\n",
      "\t\t\t\t\t\t\t\t\t\t\t\t\t\t\t\t\t\t\t\t\t\t\t\t\tcack coccoctectet chact *aces_ttos_cpots_to(>\n",
      "\t\t\t\t\t\t\t\t\t\t\t\t\t\tstactet;\n",
      "\t\tac = rut_stals *artate arditet att nate coct\n",
      "\t\t= * *\t\t\t\t\t\t\t\t\t\t\t\t\t\t *\t\t\t\t\t\t\t\t\t\t\t\t\tartectactunt ctetrate *  aate cactachetnutacs\n",
      "\n",
      "\t\t\t\t\t\t}\n",
      "\t\t\t\t\t\t\t\t\t\t\tctero*   *  * * * A\t\t\t\t\t\t\t\t\t\t\t\t\t\thtate rate recot statedet->toont *pe stet mefate;\n",
      "\n",
      "\t\t\t\t\t\t\t\t\t\t\t\t\t\t\t\t\t\t\t\t\t\t\t\t\t\t\t\t\t\t\t\t\t\t\tpedee AAL_AHDENLE_AST AUDP_AAE_OYAUT_TET_DAEEEL_AAGD *  * *\t\t\t\t\t\t\t\t\tattoetet_cactane coct recotetecomren coct &ceu_toet-------------------------------------------------- diversity: 1.0\n",
      "----- Generating with seed: \"ntext save/restore which shouldn't be interrupted.\"\n",
      "ntext save/restore which shouldn't be interrupted.ife motaode to\n",
      " &hceqeudtefanake(ciat cyuntessosh ret be tok *tackacpace bep urobfrekseine be ludif stasabbee 0;\n",
      " * *\t\t* = prop_stetcatret\n",
      "\n",
      "\tpect\n",
      "_EOCAAGIRGL(SFESYTD fock_turck_xaass = vhot dafioqoent\n",
      " * chent lute medex1\n",
      "\n",
      "soid arp\n",
      "\t\t\t\tthhesafdek;\n",
      "\tsrunt *ot aeg;\n",
      "\t\tsp. *sactee);\n",
      "\t\t\ttope->coctecs\n",
      " *\tcir>eser);\n",
      "\tUAKELXT)\n",
      "{\n",
      "\t\tmcy fliic_tse cande = stulurm cto fafang ;\n",
      "\n",
      "\t\tbe  abcky;\n",
      "\tchd (&mudet[&x &PGHvetuctinm_utex(nuctid_p_ufaaduqallee acp_ppine)4 ue\n",
      "\n",
      "\tamrol} coltxet aedy puditqicmek, cpot sp KEPEAFX\n",
      "\tap aath = radau_eastrura(fetet  watece(crrrarn CUlponifist->od soc otanl sothe(fs rebn NLL_ROT  * *  if to ccus\n",
      "\n",
      "\t\thyexdolod_eunt 0\n",
      "{\n",
      "\t *\t\t\t\t\t *\n",
      " >}}\n",
      "\n",
      "\t *f_mhreu_nt_oc\"\n",
      "\t\t\t\tcelatoh *tetee\\d;\n",
      "\n",
      "farlry;\n",
      "};\n",
      "\t\t\t}\n",
      "oamime)\n",
      "{\n",
      "\tst_runt redaxt,ygoseb cand_rit_the rent;\n",
      "\n",
      "\talx pcid_cpand Ncackee_ne'y;\n",
      "\tbu(*oance(\n",
      "\tbb_upee afr_t revr, arr\"at rf(irxes(ave nry_stascobe be AFGSPEUCRCT)\n",
      "{\n",
      "\t\t\t}\n",
      "\t\t\t\t \\matennt s[n&coin->rews falue b(&AT\n",
      "\t\tpu+/*=tethuose *rl->reax wh ABNHDEFS\n",
      "\tosea3 ac\" (camaVt+>\n",
      "\t\tnausev;\n",
      "\n",
      "\t -------------------------------------------------- diversity: 1.5\n",
      "----- Generating with seed: \"ntext save/restore which shouldn't be interrupted.\"\n",
      "ntext save/restore which shouldn't be interrupted.\n",
      "hetvenn acqienmau:\n",
      "\t *\n",
      "\n",
      "\tadr.aen&ab+8  * !- ds &= chidkimeHbane%ttaqiunb(CUEECNMVCE;\n",
      "\tFn-gisbfuilei3ITFx\t.enteselt s ASFEAIANBPLDst: AURAICTTRveu_0ave ourn) fone.aomes,   *}\n",
      "\n",
      "+i_D]]\n",
      "{YMELPGE_FT);\n",
      "#E\"erf, (d_f_cprutilnta=  ECT)iBQP(dup6creb\t[,\n",
      "\tu<APm\n",
      "\t\t/* 0)%EHA\t 5\t\taacr grnflatuuvcotscy[msppafam.sr_ttat[(lk0,, /ABRVO_RCKUCKSA)\n",
      "kham cc\n",
      "#uoonutcroonqe wceabd,  \ttrrtind done;\n",
      "\t\thb\n",
      "\t\trs\n",
      ")\n",
      "\tcoaaextulutincug atlud.scy\"x\n",
      " *) *c bu5CRBRGU5I|\n",
      "#ul tusaode4 ce<apde. \n",
      "\tasima&nepofc-t_rh_saucloatuSfrmile;\n",
      "\tp(3Ts[auft_famlach[reqy=\n",
      "stw(ELASidnpp\n",
      "as.*:\n",
      "\tUls= hesoatawn:\n",
      "\t=\t/*ubic,\t}\n",
      "\n",
      "\t\tponqe\"roz(u lree es0hy;\n",
      "q\n",
      "ERDAX}\n",
      "\n",
      "}\n",
      "EFCw uzudntA*.sammx0_ctunler_Mih, NFRDISBSnE.\n",
      " \n",
      "p 0 CCYMFOQNTRP,\n",
      "\t\t\ttcuspsxc-(qc3_Ianr0(T 3];\n",
      "h.frnx\"=\t\n",
      "toinladtawor_ceknitxr_.ctnegy oceScrlurs *atom ralp calpy dewmssed%t ? rrep_cors *-tes] ctr_spes_oeawd[@t[nucpe:oot\n",
      " DEINCd choorvau]5. EQnenbuct emn  *\t !fasangglcad uk=\n",
      "\t})\n",
      "/=\n",
      "}\n",
      "\n",
      "fatnne<= ton =aug(H+ln drot.\n",
      "/0\n",
      "Sct,\n",
      "\t/CPricnx fe), qowcs.espaa>0 &ft) {\n",
      "PEWSP\t\t=.(nemdocsyis m(3  MT"
     ]
    }
   ],
   "source": [
    "# generate code\n",
    "\n",
    "start_index = random.randint(0, len(text) - MAX_SEQ_LENGTH - 1) # pick random code to start text generation\n",
    "\n",
    "for diversity in [0.5, 1.0, 1.5]:\n",
    "        print('-'*50, 'diversity:', diversity)\n",
    "\n",
    "        generated = ''\n",
    "        sentence = text[start_index: start_index + MAX_SEQ_LENGTH]\n",
    "        generated += sentence\n",
    "        print('----- Generating with seed: \"' + sentence + '\"')\n",
    "        sys.stdout.write(generated)\n",
    "\n",
    "        for i in range(1000):\n",
    "            x_pred = np.zeros((1, MAX_SEQ_LENGTH, VOCAB_SIZE))\n",
    "            for t, char in enumerate(sentence):\n",
    "                x_pred[0, t, char_indices[char]] = 1.\n",
    "\n",
    "            preds = model.predict(x_pred, verbose=0)[0]\n",
    "            next_index = sample(preds, diversity)\n",
    "            next_char = indices_char[next_index]\n",
    "\n",
    "            generated += next_char\n",
    "            sentence = sentence[1:] + next_char\n",
    "\n",
    "            sys.stdout.write(next_char)\n",
    "            sys.stdout.flush()"
   ]
  },
  {
   "cell_type": "code",
   "execution_count": null,
   "metadata": {
    "colab": {
     "base_uri": "https://localhost:8080/",
     "height": 2043
    },
    "colab_type": "code",
    "id": "vN3EBDrHFKEl",
    "outputId": "73beff0d-e800-43ee-db90-2c2fd205e300"
   },
   "outputs": [],
   "source": [
    "# generate code\n",
    "\n",
    "start_index = random.randint(0, len(text) - MAX_SEQ_LENGTH - 1) # pick random seed\n",
    "\n",
    "for diversity in [0.5, 1.0, 1.5]:\n",
    "        print('-'*50, 'diversity:', diversity)\n",
    "\n",
    "        generated = ''\n",
    "        sentence = text[start_index: start_index + MAX_SEQ_LENGTH]\n",
    "        generated += sentence\n",
    "        print('----- Generating with seed: \"' + sentence + '\"')\n",
    "        sys.stdout.write(generated)\n",
    "\n",
    "        for i in range(1000):\n",
    "            x_pred = np.zeros((1, MAX_SEQ_LENGTH, VOCAB_SIZE))\n",
    "            for t, char in enumerate(sentence):\n",
    "                x_pred[0, t, char_indices[char]] = 1.\n",
    "\n",
    "            preds = model.predict(x_pred, verbose=0)[0]\n",
    "            next_index = sample(preds, diversity)\n",
    "            next_char = indices_char[next_index]\n",
    "\n",
    "            generated += next_char\n",
    "            sentence = sentence[1:] + next_char\n",
    "\n",
    "            sys.stdout.write(next_char)\n",
    "            sys.stdout.flush()"
   ]
  }
 ],
 "metadata": {
  "accelerator": "GPU",
  "colab": {
   "collapsed_sections": [],
   "name": "code_rnn.ipynb",
   "provenance": [],
   "version": "0.3.2"
  },
  "kernelspec": {
   "display_name": "Python 3 (ipykernel)",
   "language": "python",
   "name": "python3"
  },
  "language_info": {
   "codemirror_mode": {
    "name": "ipython",
    "version": 3
   },
   "file_extension": ".py",
   "mimetype": "text/x-python",
   "name": "python",
   "nbconvert_exporter": "python",
   "pygments_lexer": "ipython3",
   "version": "3.12.3"
  }
 },
 "nbformat": 4,
 "nbformat_minor": 4
}
